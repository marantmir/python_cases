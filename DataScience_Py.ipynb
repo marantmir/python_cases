{
  "nbformat": 4,
  "nbformat_minor": 0,
  "metadata": {
    "kernelspec": {
      "display_name": "Python 3",
      "language": "python",
      "name": "python3"
    },
    "language_info": {
      "codemirror_mode": {
        "name": "ipython",
        "version": 3
      },
      "file_extension": ".py",
      "mimetype": "text/x-python",
      "name": "python",
      "nbconvert_exporter": "python",
      "pygments_lexer": "ipython3",
      "version": "3.8.10"
    },
    "colab": {
      "name": "DataScience_Py.ipynb",
      "provenance": [],
      "include_colab_link": true
    }
  },
  "cells": [
    {
      "cell_type": "markdown",
      "metadata": {
        "id": "view-in-github",
        "colab_type": "text"
      },
      "source": [
        "<a href=\"https://colab.research.google.com/github/marantmir/python_cases/blob/master/DataScience_Py.ipynb\" target=\"_parent\"><img src=\"https://colab.research.google.com/assets/colab-badge.svg\" alt=\"Open In Colab\"/></a>"
      ]
    },
    {
      "cell_type": "markdown",
      "metadata": {
        "id": "64rz95uizU2C"
      },
      "source": [
        "# **More Academy**\n",
        "## Data Science do Zero com Python"
      ]
    },
    {
      "cell_type": "markdown",
      "metadata": {
        "id": "LfOEExtOzU2J"
      },
      "source": [
        "### O que é Data Science?\n",
        "\n",
        "Para além da programação e das demais ferramentas, Ciência de Dados é um campo interdisciplinar e desta forma envolve a aplicação de outras disciplinas como Matemática e Estatística, com ênfase na análise de dados para possíveis tomadas de decisão.\n",
        "Assim, o objetivo desta trilha é demonstrar os principais conceitos estatísticos a serem utilizados em Ciência de Dados. Não pretende ser um resumo exaustivo ou definitivo, visto a complexidade destas áreas.\n",
        "\n",
        "<img src = 'https://abracd.org/wp-content/uploads/2019/04/diagrama-data-science.png'/>"
      ]
    },
    {
      "cell_type": "markdown",
      "metadata": {
        "id": "CrIV_7IczU2L"
      },
      "source": [
        "## Ecossitema do Python\n",
        "\n",
        "### Eixo base\n",
        "\n",
        "1. NumPy\n",
        "\n",
        "Biblioteca de manipulação de arrays multidimensionais de alta performance, possui diversas funções matemáticas e estatísticas.\n",
        "\n",
        "2. Pandas\n",
        "\n",
        "Principal biblioteca de manipulação e análise de dados. Possui diversos métodos para agrupar, filtrar, manipular, limpar e combinar dados de forma simples.\n",
        "\n",
        "3. StatsModels\n",
        "\n",
        "Módulo com diversas funções estatísticas.\n",
        "\n",
        "4. SciPy\n",
        "\n",
        "Biblioteca para computação científica, com funções de álgebra linear, cálculo, estatística, dentre outras.\n",
        "\n",
        "### Data Visualization\n",
        "\n",
        "1. Matplotlib\n",
        "\n",
        "2. Seaborn\n",
        "\n",
        "3. Plotly\n",
        "\n",
        "4. Altair\n",
        "\n",
        "5. Bokeh\n",
        "\n",
        "6. Pydot\n",
        "\n",
        "7. Yellowbrick\n",
        "\n",
        "### Machine Learning e Deep Learnin\n",
        "\n",
        "1. Scikit-learn\n",
        "\n",
        "2. TensorFlow\n",
        "\n",
        "3. PyTorch\n",
        "\n",
        "4. Keras\n",
        "\n",
        "\n",
        "### Scraping\n",
        "\n",
        "1. Scrapy\n",
        "\n",
        "2. Beautiful Soup\n",
        "\n",
        "### Processamento de Linguagem Natural\n",
        "\n",
        "1. NLTK\n",
        "\n",
        "2. SpaCy\n",
        "\n",
        "3. Gensim\n",
        "\n",
        "Há diversas outras bibliotecas e módulos dentro do ecossitema Pythônico. "
      ]
    },
    {
      "cell_type": "markdown",
      "metadata": {
        "id": "I8fhOlSfzU2N"
      },
      "source": [
        "## Hands On!\n",
        "\n",
        "Neste hands on vamos fazer uma análise exploratória com microdados do ENEM. Nosso objetivo será apresentar os principais comandos da biblioteca Pandas e inserir técnicas de AutoEDA e DataViz.\n",
        "\n",
        "Sugerimos o Google Colab como ambiente de desenvolvimento."
      ]
    },
    {
      "cell_type": "code",
      "metadata": {
        "id": "izgiuzo6zU2O"
      },
      "source": [
        "import pandas as pd\n",
        "from pandas_profiling import ProfileReport\n",
        "import sweetviz as sv\n",
        "import matplotlib.pyplot as plt\n",
        "import seaborn as sns"
      ],
      "execution_count": null,
      "outputs": []
    },
    {
      "cell_type": "markdown",
      "metadata": {
        "id": "SqgliMZ-zU2R"
      },
      "source": [
        "#### Carrega o dataset e obtém informações iniciais"
      ]
    },
    {
      "cell_type": "code",
      "metadata": {
        "id": "5Ws9lzkWzU2S"
      },
      "source": [
        "# carrega o dataset\n",
        "df_enem = pd.read_csv('enem_sample_data.csv')"
      ],
      "execution_count": null,
      "outputs": []
    },
    {
      "cell_type": "code",
      "metadata": {
        "id": "hBXkXdpizU2T"
      },
      "source": [
        "# mostra as 5 primeiras linhas do dataset\n",
        "df_enem.head()"
      ],
      "execution_count": null,
      "outputs": []
    },
    {
      "cell_type": "code",
      "metadata": {
        "id": "xQFZljXHzU2V"
      },
      "source": [
        "# mostra as 5 últimas linhas do dataset\n",
        "df_enem.tail()"
      ],
      "execution_count": null,
      "outputs": []
    },
    {
      "cell_type": "code",
      "metadata": {
        "id": "ldH2eDoczU2W"
      },
      "source": [
        "# quantidade de linhas e colunas\n",
        "df_enem.shape"
      ],
      "execution_count": null,
      "outputs": []
    },
    {
      "cell_type": "code",
      "metadata": {
        "id": "wIyqmc65zU2X"
      },
      "source": [
        "# array com os nomes das colunas\n",
        "df_enem.columns"
      ],
      "execution_count": null,
      "outputs": []
    },
    {
      "cell_type": "code",
      "metadata": {
        "id": "b9HNC3ByzU2Y"
      },
      "source": [
        "# informações gerais \n",
        "# outra possibilidade para verificar o dtype de cada coluna: df.dtypes\n",
        "df_enem.info()"
      ],
      "execution_count": null,
      "outputs": []
    },
    {
      "cell_type": "code",
      "metadata": {
        "id": "rLHCmu2ZzU2Z"
      },
      "source": [
        "# quantidade de valores únicos por cada coluna\n",
        "df_enem.nunique()"
      ],
      "execution_count": null,
      "outputs": []
    },
    {
      "cell_type": "code",
      "metadata": {
        "id": "G1fDySAhzU2a"
      },
      "source": [
        "# verifica percentual de missing values para cada coluna\n",
        "((df_enem.isna().sum()/df_enem.shape[0])*100).sort_values(ascending = False)"
      ],
      "execution_count": null,
      "outputs": []
    },
    {
      "cell_type": "markdown",
      "metadata": {
        "id": "vprHsDMZzU2b"
      },
      "source": [
        "#### Tratamento e limpeza dos dados"
      ]
    },
    {
      "cell_type": "markdown",
      "metadata": {
        "id": "Dh6Z2infzU2c"
      },
      "source": [
        "Vamos renomear algumas colunas. Mas, antes iremos criar uma cópia do banco de dados original."
      ]
    },
    {
      "cell_type": "code",
      "metadata": {
        "id": "7TZQKDBtzU2d"
      },
      "source": [
        "df = df_enem.copy()"
      ],
      "execution_count": null,
      "outputs": []
    },
    {
      "cell_type": "code",
      "metadata": {
        "id": "y2QvNhQvzU2d"
      },
      "source": [
        "new_cols = {\n",
        "    'NO_MUNICIPIO_RESIDENCIA': 'municipio_residencia',\n",
        "    'NO_MUNICIPIO_PROVA': 'municipio_prova',\n",
        "    'NU_IDADE': 'idade',\n",
        "    'TP_SEXO': 'sexo',\n",
        "    'TP_ESTADO_CIVIL': 'estado_civil',\n",
        "    'TP_COR_RACA': 'cor_raca',\n",
        "    'IN_TREINEIRO': 'treineiro',\n",
        "    'NU_NOTA_CN': 'ciencias_natureza',\n",
        "    'NU_NOTA_CH': 'ciencias_humanas',\n",
        "    'NU_NOTA_LC': 'linguagens',\n",
        "    'NU_NOTA_MT': 'matematica',\n",
        "    'NU_NOTA_REDACAO': 'redacao',\n",
        "    'Q001': 'escolaridade_pai',\n",
        "    'Q002': 'escolaridade_mae',\n",
        "    'Q006': 'renda_familiar_mensal',\n",
        "    'Q025 ': 'internet'\n",
        "}\n",
        "\n",
        "df.rename(columns = new_cols, inplace = True)"
      ],
      "execution_count": null,
      "outputs": []
    },
    {
      "cell_type": "markdown",
      "metadata": {
        "id": "m2lNSmYUzU2e"
      },
      "source": [
        "Vamos verificar se há linhas duplicadas:"
      ]
    },
    {
      "cell_type": "code",
      "metadata": {
        "id": "1lR-NeqJzU2e"
      },
      "source": [
        "# como vemos não há linhas duplicadas\n",
        "df[df.duplicated()]"
      ],
      "execution_count": null,
      "outputs": []
    },
    {
      "cell_type": "code",
      "metadata": {
        "id": "hOLHEQQdzU2f"
      },
      "source": [
        "# outra possibilidade seria:\n",
        "df.duplicated().sum()"
      ],
      "execution_count": null,
      "outputs": []
    },
    {
      "cell_type": "markdown",
      "metadata": {
        "id": "AsAbQZfLzU2f"
      },
      "source": [
        "Caso houvesse linhas duplicadas poderíamos usar a função `.drop_duplicates()` para corrigir este problema."
      ]
    },
    {
      "cell_type": "markdown",
      "metadata": {
        "id": "2m33V5pZzU2g"
      },
      "source": [
        "Vamos remover as colunas `NU_INSCRICAO` e `NO_MUNICIPIO_NASCIMENTO`."
      ]
    },
    {
      "cell_type": "code",
      "metadata": {
        "id": "zAKUu8ydzU2g"
      },
      "source": [
        "cols_to_del = [' NU_INSCRICAO', 'NO_MUNICIPIO_NASCIMENTO']\n",
        "df.drop(columns = cols_to_del, inplace = True)"
      ],
      "execution_count": null,
      "outputs": []
    },
    {
      "cell_type": "markdown",
      "metadata": {
        "id": "E4sSvD-dzU2g"
      },
      "source": [
        "Por fim, quanto aos dados ausentes iremos apenas remover, mas há diversas técnicas para preenchimento de missing data que não teremos tempo de abordar aqui."
      ]
    },
    {
      "cell_type": "code",
      "metadata": {
        "id": "742zO3PGzU2g"
      },
      "source": [
        "provas = df.columns.to_list()[7:12]"
      ],
      "execution_count": null,
      "outputs": []
    },
    {
      "cell_type": "code",
      "metadata": {
        "id": "hT7MwiM6zU2h"
      },
      "source": [
        "df.dropna(subset = provas, inplace = True)"
      ],
      "execution_count": null,
      "outputs": []
    },
    {
      "cell_type": "code",
      "metadata": {
        "id": "FfYJUKdxzU2h"
      },
      "source": [
        "df.isna().sum()"
      ],
      "execution_count": null,
      "outputs": []
    },
    {
      "cell_type": "markdown",
      "metadata": {
        "id": "xuEjHSQtzU2h"
      },
      "source": [
        "Agora precisamos detectar alguma inconsistência com os valores dos campos numéricos."
      ]
    },
    {
      "cell_type": "code",
      "metadata": {
        "id": "Se1b7t1dzU2h"
      },
      "source": [
        "df.describe().T"
      ],
      "execution_count": null,
      "outputs": []
    },
    {
      "cell_type": "code",
      "metadata": {
        "id": "lUG9udyhzU2i"
      },
      "source": [
        "# vamos criar uma coluna com a média global dos alunos\n",
        "df['media'] = df[provas].mean(axis = 1)"
      ],
      "execution_count": null,
      "outputs": []
    },
    {
      "cell_type": "code",
      "metadata": {
        "id": "5DAnvIxSzU2i"
      },
      "source": [
        "# por fim, vamos ordenar os dados pelos alunos com maior média global\n",
        "df.sort_values(by = ['media'], ascending = False, inplace = True)"
      ],
      "execution_count": null,
      "outputs": []
    },
    {
      "cell_type": "markdown",
      "metadata": {
        "id": "JYe12sxlzU2i"
      },
      "source": [
        "Alteremos os valores dos campos `sexo`,`estado_civil` e `cor_raca`."
      ]
    },
    {
      "cell_type": "code",
      "metadata": {
        "id": "qs0cUg0pzU2i"
      },
      "source": [
        "df['sexo'] = df['sexo'].map({'M':'Masculino',\n",
        "                'F':'Feminino'\n",
        "                    })"
      ],
      "execution_count": null,
      "outputs": []
    },
    {
      "cell_type": "markdown",
      "metadata": {
        "id": "YxW5S2rAzU2j"
      },
      "source": [
        "Agora vamos utilizar uma forma distinta para resolver este mesmo problema, usando funções."
      ]
    },
    {
      "cell_type": "code",
      "metadata": {
        "id": "uWFRvBEMzU2j"
      },
      "source": [
        "def editar_cor_raca(cor_raca):\n",
        "    if cor_raca == 0:\n",
        "        return 'Não informado'\n",
        "    elif cor_raca == 1:\n",
        "        return 'Branca'\n",
        "    elif cor_raca == 2:\n",
        "        return 'Preta'\n",
        "    elif cor_raca == 3:\n",
        "        return 'Parda'\n",
        "    elif cor_raca == 4:\n",
        "        return 'Amarela'\n",
        "    else:\n",
        "        return 'Indígena'\n",
        "    \n",
        "def editar_estado_civil(estado_civil):\n",
        "    if estado_civil==0:\n",
        "        return 'Não Informado'\n",
        "    elif estado_civil==1:\n",
        "        return 'Solteiro (a)'\n",
        "    elif estado_civil==2:\n",
        "        return 'Casado (a)'\n",
        "    elif estado_civil==3:\n",
        "        return 'Divorciado (a)'\n",
        "    else:\n",
        "        return 'Viúvo (a)'"
      ],
      "execution_count": null,
      "outputs": []
    },
    {
      "cell_type": "code",
      "metadata": {
        "id": "TSAfQKGlzU2j"
      },
      "source": [
        "df['estado_civil'] = df['estado_civil'].apply(editar_estado_civil)\n",
        "df['cor_raca'] = df['cor_raca'].apply(editar_cor_raca)"
      ],
      "execution_count": null,
      "outputs": []
    },
    {
      "cell_type": "code",
      "metadata": {
        "id": "nMUvsJFSzU2j"
      },
      "source": [
        "# verificar os valores únicos da coluna após a transformação\n",
        "df['estado_civil'].unique()"
      ],
      "execution_count": null,
      "outputs": []
    },
    {
      "cell_type": "code",
      "metadata": {
        "id": "CN6jx5MMzU2k"
      },
      "source": [
        "df['cor_raca'].unique()"
      ],
      "execution_count": null,
      "outputs": []
    },
    {
      "cell_type": "code",
      "metadata": {
        "id": "SZX9tl3qzU2k"
      },
      "source": [
        "df.head()"
      ],
      "execution_count": null,
      "outputs": []
    },
    {
      "cell_type": "markdown",
      "metadata": {
        "id": "a6wO3P4czU2k"
      },
      "source": [
        "### AutoEDA\n",
        "#### Pandas Profiling"
      ]
    },
    {
      "cell_type": "code",
      "metadata": {
        "id": "FqJW1sPMzU2l"
      },
      "source": [
        "eda_profile = ProfileReport(df, \n",
        "                            title = 'EDA ENEM', \n",
        "                            html = {'style':{'full_width':True}})"
      ],
      "execution_count": null,
      "outputs": []
    },
    {
      "cell_type": "code",
      "metadata": {
        "id": "xwEKOMz3zU2l"
      },
      "source": [
        "# mostra o relatório\n",
        "eda_profile.to_notebook_iframe()"
      ],
      "execution_count": null,
      "outputs": []
    },
    {
      "cell_type": "code",
      "metadata": {
        "id": "Z3auZ5BMzU2l"
      },
      "source": [
        "# salva o relatório\n",
        "eda_profile.to_file(output_file=\"dataframe_report.html\")"
      ],
      "execution_count": null,
      "outputs": []
    },
    {
      "cell_type": "markdown",
      "metadata": {
        "id": "XErQS5oqzU2l"
      },
      "source": [
        "#### SweetViz"
      ]
    },
    {
      "cell_type": "code",
      "metadata": {
        "id": "Kigbe852zU2l"
      },
      "source": [
        "# !pip install sweetviz"
      ],
      "execution_count": null,
      "outputs": []
    },
    {
      "cell_type": "code",
      "metadata": {
        "id": "dvLavLQvzU2m"
      },
      "source": [
        "eda_profile = sv.analyze(df, 'matematica')\n",
        "eda_profile.show_html('dataset.html')"
      ],
      "execution_count": null,
      "outputs": []
    },
    {
      "cell_type": "markdown",
      "metadata": {
        "id": "lLehRqHZzU2m"
      },
      "source": [
        "#### Consultas"
      ]
    },
    {
      "cell_type": "code",
      "metadata": {
        "id": "xCG3ls5rzU2m"
      },
      "source": [
        ""
      ],
      "execution_count": null,
      "outputs": []
    },
    {
      "cell_type": "markdown",
      "metadata": {
        "id": "bEhTo8RdzU2m"
      },
      "source": [
        "#### Data Visualization"
      ]
    },
    {
      "cell_type": "markdown",
      "metadata": {
        "id": "bra-KGEBzU2m"
      },
      "source": [
        "Nesta seção iremos explorar algumas possibilidades de visualização dos dados utilizando `matplotlib` e `seaborn`."
      ]
    },
    {
      "cell_type": "markdown",
      "metadata": {
        "id": "woc2P8CLzU2m"
      },
      "source": [
        "##### Perfil geral dos inscritos"
      ]
    },
    {
      "cell_type": "code",
      "metadata": {
        "id": "2jS-Az33zU2m"
      },
      "source": [
        "df['municipio_residencia'].value_counts()[:20]"
      ],
      "execution_count": null,
      "outputs": []
    },
    {
      "cell_type": "code",
      "metadata": {
        "id": "Cx2VIcpHzU2n"
      },
      "source": [
        "lista_municipios = df['municipio_residencia'].value_counts()[:20]\n",
        "fig, ax = plt.subplots(figsize = (12, 5))\n",
        "ax.barh(\n",
        "    width = lista_municipios.values,\n",
        "    y = lista_municipios.index\n",
        ")\n",
        "ax.set_yticklabels(labels = lista_municipios.index,rotation = 45)\n",
        "ax.set(\n",
        "    xlabel = 'Quantidade de inscritos',\n",
        "    ylabel = 'Municípios',\n",
        "    \n",
        ")\n",
        "ax.set_title(label = 'Residência dos inscritos no ENEM.', \n",
        "             pad = 10,\n",
        "             fontsize = 14, \n",
        "             fontweight = 'bold',\n",
        "             color = 'gray'\n",
        "            );\n",
        "#ax.grid(axis = 'y', alpha = 0.2)"
      ],
      "execution_count": null,
      "outputs": []
    },
    {
      "cell_type": "code",
      "metadata": {
        "id": "AQR1k6SYzU2n"
      },
      "source": [
        "fig, ax = plt.subplots(figsize = (8, 4))\n",
        "ax.hist(df['idade'], bins = 30,\n",
        "        color = 'gray'\n",
        "       )\n",
        "ax.set(xlabel = 'Idade', ylabel = 'Frequência')\n",
        "ax.set_title('Perfil geral dos inscritos no ENEM', fontsize = 12, color = 'gray');"
      ],
      "execution_count": null,
      "outputs": []
    },
    {
      "cell_type": "code",
      "metadata": {
        "id": "rpbpxd26zU2n"
      },
      "source": [
        "# outra possibilidade: df['idade'].plot(kind = 'hist');"
      ],
      "execution_count": null,
      "outputs": []
    },
    {
      "cell_type": "markdown",
      "metadata": {
        "id": "lnxuOKXhzU2n"
      },
      "source": [
        "##### Perfil geral das notas"
      ]
    },
    {
      "cell_type": "code",
      "metadata": {
        "id": "fFqejCH7zU2o"
      },
      "source": [
        "# estatística descritiva das provas\n",
        "df[provas].describe()"
      ],
      "execution_count": null,
      "outputs": []
    },
    {
      "cell_type": "code",
      "metadata": {
        "id": "Ca3UrNUCzU2o"
      },
      "source": [
        "df[provas].plot(kind = 'box');"
      ],
      "execution_count": null,
      "outputs": []
    },
    {
      "cell_type": "code",
      "metadata": {
        "id": "WE2ndrOzzU2o"
      },
      "source": [
        "fig, ax = plt.subplots(figsize = (10, 5))\n",
        "sns.boxplot(data = df[provas], ax = ax, \n",
        "            showfliers = True,\n",
        "            showmeans = True\n",
        "           )\n",
        "ax.set_xticklabels(['Ciências da Natureza', 'Ciências Humanas', 'Linguagens', 'Matemática', 'Redação'])\n",
        "ax.set(xlabel = 'Provas')\n",
        "ax.set_title('Boxplot das notas dos inscritos no ENEM', color = 'gray', size = 12);"
      ],
      "execution_count": null,
      "outputs": []
    },
    {
      "cell_type": "code",
      "metadata": {
        "id": "sS2uspXtzU2o"
      },
      "source": [
        "sns.pairplot(df[provas+['sexo']], hue = 'sexo')"
      ],
      "execution_count": null,
      "outputs": []
    },
    {
      "cell_type": "code",
      "metadata": {
        "id": "IrkY3a0FzU2p"
      },
      "source": [
        "for prova in provas:\n",
        "    sns.displot(df, x = prova, hue = 'sexo')"
      ],
      "execution_count": null,
      "outputs": []
    },
    {
      "cell_type": "code",
      "metadata": {
        "id": "MEfAxkyizU2p"
      },
      "source": [
        "filtro = df['escolaridade_pai'].values\n",
        "filtro.sort()\n",
        "fig, ax = plt.subplots(figsize = (8, 5))\n",
        "sns.boxplot(data = df, \n",
        "            x = filtro,\n",
        "            y = df['matematica'], ax = ax)\n",
        "ax.set(xlabel = 'Escolaridade do pai',\n",
        "       ylabel = 'Nota em matemática'\n",
        "      )\n",
        "ax.set_title('Nota em matemática por grau de escolaridade do pai', fontsize = 12, color = 'gray');"
      ],
      "execution_count": null,
      "outputs": []
    },
    {
      "cell_type": "code",
      "metadata": {
        "id": "TeovaDN1zU2p"
      },
      "source": [
        "renda_familiar = df['renda_familiar_mensal'].values\n",
        "renda_familiar.sort()\n",
        "fig, ax = plt.subplots(figsize = (8, 5))\n",
        "sns.boxplot(data = df, \n",
        "            x = renda_familiar,\n",
        "            y = df['matematica'], ax = ax)\n",
        "ax.set(xlabel = 'Níveis de renda familiar',\n",
        "       ylabel = 'Nota em matemática'\n",
        "      )\n",
        "ax.set_title('Nota em matemática por renda familiar', fontsize = 12, color = 'gray');"
      ],
      "execution_count": null,
      "outputs": []
    },
    {
      "cell_type": "code",
      "metadata": {
        "id": "ezXnnTnizU2p"
      },
      "source": [
        "corr = df[provas].corr()\n",
        "sns.heatmap(corr, annot = True, cmap = 'Blues');"
      ],
      "execution_count": null,
      "outputs": []
    },
    {
      "cell_type": "markdown",
      "metadata": {
        "id": "4wQ-4BgpzU2p"
      },
      "source": [
        "#### Aplicando Machine Learning"
      ]
    },
    {
      "cell_type": "code",
      "metadata": {
        "id": "WabyvbAIzU2q"
      },
      "source": [
        "from sklearn.model_selection import train_test_split\n",
        "from sklearn.metrics import mean_squared_error\n",
        "from sklearn.linear_model import LinearRegression\n",
        "from sklearn.model_selection import cross_val_score, KFold"
      ],
      "execution_count": null,
      "outputs": []
    },
    {
      "cell_type": "code",
      "metadata": {
        "id": "elJGQrYFzU2q"
      },
      "source": [
        "# variável target\n",
        "y = df['matematica']  \n",
        "# matriz com as variáveis explicativas\n",
        "variaveis_categoricas = pd.get_dummies(df[['sexo', 'cor_raca', 'escolaridade_pai', 'internet', 'renda_familiar_mensal']], \n",
        "               drop_first = True\n",
        "              )\n",
        "variaveis_numericas = df['ciencias_natureza']\n",
        "X = pd.concat([variaveis_categoricas, variaveis_numericas], axis = 1)"
      ],
      "execution_count": null,
      "outputs": []
    },
    {
      "cell_type": "code",
      "metadata": {
        "id": "diW8dLQjzU2q"
      },
      "source": [
        "# separa os dados em treino e teste\n",
        "X_train, X_test, y_train, y_test = train_test_split(X, y, test_size = 0.3, random_state = 1)"
      ],
      "execution_count": null,
      "outputs": []
    },
    {
      "cell_type": "code",
      "metadata": {
        "id": "SaCi-0mYzU2q"
      },
      "source": [
        "X_train.shape, y_train.shape"
      ],
      "execution_count": null,
      "outputs": []
    },
    {
      "cell_type": "code",
      "metadata": {
        "id": "nRK7C-B5zU2q"
      },
      "source": [
        "X_test.shape, y_test.shape"
      ],
      "execution_count": null,
      "outputs": []
    },
    {
      "cell_type": "code",
      "metadata": {
        "id": "UZrde8AyzU2q"
      },
      "source": [
        "# instancia e treina o modelo"
      ],
      "execution_count": null,
      "outputs": []
    },
    {
      "cell_type": "code",
      "metadata": {
        "id": "ToLTuXHLzU2r"
      },
      "source": [
        "linear_regression = LinearRegression()"
      ],
      "execution_count": null,
      "outputs": []
    },
    {
      "cell_type": "code",
      "metadata": {
        "id": "r1gJfypFzU2r"
      },
      "source": [
        "linear_regression.fit(X_train, y_train)"
      ],
      "execution_count": null,
      "outputs": []
    },
    {
      "cell_type": "code",
      "metadata": {
        "id": "v5Bm3nfazU2r"
      },
      "source": [
        "# score\n",
        "linear_regression.score(X_test, y_test)"
      ],
      "execution_count": null,
      "outputs": []
    },
    {
      "cell_type": "code",
      "metadata": {
        "id": "8nhQENw9zU2r"
      },
      "source": [
        "# coeficientes estimados\n",
        "linear_regression.coef_"
      ],
      "execution_count": null,
      "outputs": []
    },
    {
      "cell_type": "code",
      "metadata": {
        "id": "rFZcc3rxzU2r"
      },
      "source": [
        "y_pred = linear_regression.predict(X_test)"
      ],
      "execution_count": null,
      "outputs": []
    },
    {
      "cell_type": "code",
      "metadata": {
        "id": "pZj9QMXrzU2r"
      },
      "source": [
        "# calcula o MSE\n",
        "# quanto menor, melhor o modelo\n",
        "mean_squared_error(y_test, y_pred)"
      ],
      "execution_count": null,
      "outputs": []
    }
  ]
}